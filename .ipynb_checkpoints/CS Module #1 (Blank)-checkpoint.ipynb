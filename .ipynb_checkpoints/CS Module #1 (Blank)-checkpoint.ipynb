{
 "cells": [
  {
   "cell_type": "markdown",
   "metadata": {},
   "source": [
    "<b>Note:</b> Inspired by <i>Computational and Inferential Thinking</i> and the Data 8 course material. Credits: Professors Ani Adhikari, John DeNero, and the Data 8 staff."
   ]
  },
  {
   "cell_type": "markdown",
   "metadata": {},
   "source": [
    "# Computational Module 1: Introduction to Python"
   ]
  },
  {
   "cell_type": "markdown",
   "metadata": {},
   "source": [
    "Please complete this notebook by filling in the cells provided.\n",
    "\n",
    "For all problems that you must write our explanations and sentences for, you must provide your answer in the designated space. Moreover, throughout this homework and all future ones, please be sure to not re-assign variables throughout the notebook! For example, if you use <code>max_temperature</code> in your answer to one question, do not reassign it later on.\n",
    "\n",
    "Directly sharing answers with your fellow ULAB colleagues is not okay, but discussing problems with your mentors or them is encouraged. You should start early so that you have time to get help if you're stuck! Drop-in office hours will staffed by ULAB computational scientists will be periodically held; please keep an eye on ULAB Slack for more information."
   ]
  },
  {
   "cell_type": "markdown",
   "metadata": {},
   "source": [
    "## Lesson Plan"
   ]
  },
  {
   "cell_type": "markdown",
   "metadata": {},
   "source": [
    "In this lesson, you will...\n",
    "- learn the background and basic syntax of the Python computer programming language\n",
    "- be introduced to the concepts of variables, loops, operators, and data types in computer science\n",
    "- understand the function of the terminal and how to run programs from your computer without using a Jupyter notebook\n",
    "(or the Internet)"
   ]
  },
  {
   "cell_type": "code",
   "execution_count": null,
   "metadata": {
    "collapsed": true
   },
   "outputs": [],
   "source": [
    "import csModule1"
   ]
  },
  {
   "cell_type": "markdown",
   "metadata": {},
   "source": [
    "## Introduction"
   ]
  },
  {
   "cell_type": "markdown",
   "metadata": {},
   "source": [
    "A programming language is -- formally -- a collection of commands, syntax rules, and instructions that humans can use to create a software program. The primary objective of most programs is to get a computer to do something that would either take people a long time or be infeasible to calculate without significant expected errors. Essentially, a programming language is the language that lets you talk to computers and tell them what to do.\n",
    "\n",
    "For the purpose of ULAB and your research project, you will most likely be using Python (specifically version 3 or above; anything lower will have minor syntactical differences). Even if you're not, the concepts in these computational modules are transferable; they're just as useful if you end up coding in C++ because computer science is an overarching umbrella field. Ultimately, the main differences between individual languages come down to high-level vs. low-level (don't worry about low-level, you won't run into that here) and <i>syntax</i> (the grammar of a particular language, which doesn't take long to pick up).\n",
    "\n",
    "Python is simpler and more predictable than human languages. Consider English, for instance, and the rule of thumb -- \"i before e except after c\"... except \"receipt\" and \"science\" and more. A computer language will, thankfully, not have this many exceptions.\n",
    "\n",
    "The basic unit of a computer program is an <b>expression</b>, which either consists of a piece of data, or a combination of these pieces e.g. \"try,\" 45, 45 + 56. \"Try\" is a specific <i>data type</i> called a string, and 45 + 56 (a compound expression) includes an operator +.\n",
    "\n",
    "This is a table of common operators and how to express them in Python.\n",
    "\n",
    "<table>\n",
    "    <tr>\n",
    "        <th>\n",
    "            Expression Type\n",
    "        </th>\n",
    "        <th>\n",
    "            Operator\n",
    "        </th>\n",
    "        <th>\n",
    "            Example\n",
    "        </th>\n",
    "    </tr>\n",
    "    <tr>\n",
    "        <td>\n",
    "            Addition\n",
    "        </td>\n",
    "        <td>\n",
    "            <code>+</code>\n",
    "        </td>\n",
    "        <td>\n",
    "            <code>5 + 6</code> <br>\n",
    "            <code>>>> 11</code>\n",
    "        </td>\n",
    "    </tr>\n",
    "    <tr>\n",
    "        <td>\n",
    "            Subtraction\n",
    "        </td>\n",
    "        <td>\n",
    "            <code>-</code>\n",
    "        </td>\n",
    "        <td>\n",
    "            <code>5 - 6</code> <br>\n",
    "            <code>>>> -1</code>\n",
    "        </td>\n",
    "    </tr>\n",
    "    <tr>\n",
    "        <td>\n",
    "            Multiplication\n",
    "        </td>\n",
    "        <td>\n",
    "            <code>*</code>\n",
    "        </td>\n",
    "        <td>\n",
    "            <code>5 * 6</code> <br>\n",
    "            <code>>>> 30</code>\n",
    "        </td>\n",
    "    </tr>\n",
    "    <tr>\n",
    "        <td>\n",
    "            Division\n",
    "        </td>\n",
    "        <td>\n",
    "            <code>/</code>\n",
    "        </td>\n",
    "        <td>\n",
    "            <code>5 / 6</code> <br>\n",
    "            <code>>>> 0.8333333333333334</code> <br>\n",
    "            Note: The interpreter truncates infinite decimals <br>\n",
    "            and rounds the last digit. This is important <br>\n",
    "            because it can lead to information / precision loss.\n",
    "        </td>\n",
    "    </tr>\n",
    "    <tr>\n",
    "        <td>\n",
    "            Remainder (Modulus)\n",
    "        </td>\n",
    "        <td>\n",
    "            <code>%</code>\n",
    "        </td>\n",
    "        <td>\n",
    "            <code>5 % 6</code> <br>\n",
    "            <code>>>> 5</code>\n",
    "        </td>\n",
    "    </tr>\n",
    "    <tr>\n",
    "        <td>\n",
    "            Exponentiation\n",
    "        </td>\n",
    "        <td>\n",
    "            <code>**</code>\n",
    "        </td>\n",
    "        <td>\n",
    "            <code>4 ** 2</code> <br>\n",
    "            <code>>>> 16</code>\n",
    "        </td>\n",
    "    </tr>\n",
    "</table>"
   ]
  },
  {
   "cell_type": "markdown",
   "metadata": {},
   "source": [
    "#### Checkpoint 1"
   ]
  },
  {
   "cell_type": "markdown",
   "metadata": {},
   "source": [
    "What is the remainder of {(e to the power 15) times 45} divided by 6? Execute any statements you need to below and make sure that you print your answer to the screen. You can do that by calling the print method like so: <code>print(whatever you want to print)</code>."
   ]
  },
  {
   "cell_type": "code",
   "execution_count": null,
   "metadata": {},
   "outputs": [],
   "source": [
    "# By the way, these lines with the pound sign before them are comments. We'll be talking about them later.\n",
    "# Don't worry about them right now, the computer doesn't read them, so there won't be an error.\n",
    "\n",
    "# If you run this cell by itself, it will error because ... is not a valid expression to place inside print()\n",
    "\n",
    "import math\n",
    "prob_1 = (math.e) # write your expression after the equals sign\n",
    "print(prob_1)"
   ]
  },
  {
   "cell_type": "markdown",
   "metadata": {},
   "source": [
    "A hint to get you up and running! If you have trouble understanding how to get the value of <code>e</code>, see below. Running <code>math.e</code> should return the correct value."
   ]
  },
  {
   "cell_type": "code",
   "execution_count": null,
   "metadata": {},
   "outputs": [],
   "source": [
    "import math\n",
    "math.e"
   ]
  },
  {
   "cell_type": "markdown",
   "metadata": {},
   "source": [
    "Because this is the first question, we'll include an <code>assert</code> statement to check whether or not your answer is correct!"
   ]
  },
  {
   "cell_type": "code",
   "execution_count": null,
   "metadata": {},
   "outputs": [],
   "source": [
    "assert 24517620 <= prob_1 <= 24517640, \"failed\""
   ]
  },
  {
   "cell_type": "markdown",
   "metadata": {},
   "source": [
    "## Variables"
   ]
  },
  {
   "cell_type": "markdown",
   "metadata": {},
   "source": [
    "Chances are you've probably run into this term in a math class, representing a quantity that changes e.g. $x$ is the variable in the polynomial $f(x) = x^2$. This is analogous to CS in the \"varying\" factor. A <i>variable</i> is a reserved spot in computer memory that stores a particular value or a reference to an object. In Python which is a <i>dynamically-typed language</i> (unlike other statically-typed languages like Java), you can define a variable <code>x</code> to be certain type and then later in your code, it's acceptable to assign an expression of a different type to <code>x</code>).\n",
    "\n",
    "Different data types in Python include numbers (integers and floats), strings, lists, tuples, and dictionaries. This means that the following is valid code and will not error:\n",
    "\n",
    "<code>\n",
    "x = 5\n",
    "print(x)\n",
    "\n",
    "x = \"Hello, world!\"\n",
    "</code>"
   ]
  },
  {
   "cell_type": "markdown",
   "metadata": {},
   "source": [
    "#### Checkpoint 2"
   ]
  },
  {
   "cell_type": "markdown",
   "metadata": {},
   "source": [
    "See the code block below. Without running it, guess the value of variable <code>x</code> at the end. Then, run the block and check your guess."
   ]
  },
  {
   "cell_type": "code",
   "execution_count": null,
   "metadata": {},
   "outputs": [],
   "source": [
    "# before running this block, fill in your guess in the ...\n",
    "x = 5 * 2 + 1\n",
    "x = x + 1\n",
    "y = 2 * x\n",
    "x = x + y\n",
    "your_guess = ...\n",
    "print(your_guess)"
   ]
  },
  {
   "cell_type": "code",
   "execution_count": null,
   "metadata": {},
   "outputs": [],
   "source": [
    "# did you get it right?\n",
    "csModule1.checkpoint2(your_guess)"
   ]
  },
  {
   "cell_type": "markdown",
   "metadata": {},
   "source": [
    "### Naming Conventions"
   ]
  },
  {
   "cell_type": "markdown",
   "metadata": {},
   "source": [
    "We've used a boring <code>x</code> as our variable name. According to good coding practice, it's a better idea to provide more descriptive variable names so that you can reread your code and understand its flow more efficiently, and so that others can read your code for the first time and easily decipher your thought process. For instance, if you're storing the speed of light in a variable, try to call it something like <code>light_speed</code> instead of <code>c</code> (which is something physicists might understand, but even so, the name is not intuitive).\n",
    "\n",
    "The following rules are applied to variable names in Python (other variable names will not be considered valid and will result in errors):\n",
    "- must start with a letter or the underscore character\n",
    "- cannot start with a number\n",
    "- can only contain A-z (uppercase and lowercase), 0-9, and the underscore\n",
    "- case-sensitive (blue, BLUE, and bLuE are different variables)"
   ]
  },
  {
   "cell_type": "markdown",
   "metadata": {},
   "source": [
    "#### Checkpoint 3"
   ]
  },
  {
   "cell_type": "markdown",
   "metadata": {},
   "source": [
    "Look at the list of possible variable names. According to the rules of variable names in Python, which of them are valid names? Type your answer(s) in the ... separated by commas and in quotes (the same format as <code>possible_var_names</code>) so that the answer is printed."
   ]
  },
  {
   "cell_type": "code",
   "execution_count": null,
   "metadata": {},
   "outputs": [],
   "source": [
    "# fill in the ... with your answer\n",
    "possible_var_names = [\"2_cool_4_skool\", \"AToZ\", \"_model_feet\", \"triangle_lengths\", \"cats 15\", \"cats15\"]\n",
    "valid_var_names = [...]\n",
    "print(valid_var_names)"
   ]
  },
  {
   "cell_type": "code",
   "execution_count": null,
   "metadata": {},
   "outputs": [],
   "source": [
    "# did you get it right?\n",
    "csModule1.checkpoint3(valid_var_names)"
   ]
  },
  {
   "cell_type": "markdown",
   "metadata": {},
   "source": [
    "<b>Note</b>: The below section is optional and you should read through it only if you want a better understanding of variables. Scoping should not prove to be too important for your purposes, which is why it isn't covered in this module, but if you want extra practice on tricky variable bugs, you should check out CS 61A material and midterm questions.\n",
    "\n",
    "### Optional Topic: Variable Confusion"
   ]
  },
  {
   "cell_type": "markdown",
   "metadata": {},
   "source": [
    "Variables are useful because they allow you to save your place -- whether a calculated value that you don't want to lose the precision of while retyping, or a pointer to something you might potentially lose in the future. For example, the below is an example of bad coding practice (you should never, ever assign a Python keyword corresponding to a built-in function to another value because that means that you could lose the function in the current environment):\n",
    "\n",
    "<code>\n",
    "&#x23; Block 1\n",
    "print\n",
    "</code>\n",
    "<output>&lt;built-in function print&gt;</output>\n",
    "<code>\n",
    "&#x23; Block 2\n",
    "x = print\n",
    "x(5)\n",
    "</code>\n",
    "<output>5</output>\n",
    "<code>\n",
    "&#x23; Block 3\n",
    "print = 2\n",
    "print(2)\n",
    "</code>\n",
    "<output>Traceback (most recent call last):\n",
    "  File \"&lt;stdin&gt;\", line 1, in &lt;module&gt;</output>\n",
    "<code>\n",
    "&#x23; Block 4\n",
    "print = x\n",
    "print(2)\n",
    "</code>\n",
    "<output>2</output>\n",
    "\n",
    "<b>Block 1</b>: The code above may be a little confusing, but let's walk through it. The name <code>print</code> is a built-in function that allows you to print values to the console. The first output shows exactly what we expect when we type in <code>print</code>: the reference to the associated built-in function.\n",
    "\n",
    "<b>Block 2</b>: We assign <code>print</code> to <code>x</code>. This means that there are now 2 references pointing at the same built-in function, which is why it <code>x(5)</code> doesn't error -- that statement is now equivalent to <code>print(5)</code> for the time being.\n",
    "\n",
    "<b>Block 3</b> We assign print to 2. This means <code>print</code> is no longer pointing but rather storing the value 2. This is why <code>print(2)</code> errors; <code>print</code> is not a function and <code>2(2)</code> is a statement the computer doesn't know how to interpret.\n",
    "\n",
    "<b>Block 4</b> we point the name <code>print</code> back to the same thing the variable <code>x</code> is pointing to -- the built-in function. Now, when we execute <code>print(2)</code>, the appropriate function is called and all is well (mostly)."
   ]
  },
  {
   "cell_type": "markdown",
   "metadata": {},
   "source": [
    "## Data Types"
   ]
  },
  {
   "cell_type": "markdown",
   "metadata": {},
   "source": [
    "A data type given to a particular piece of data (We're going to call them <b>objects</b> from now on to remain consistent with terminology but the object-oriented programming paradigm probably won't be that important to your research needs so don't worry if you're confused about the term. You can do some googling, or wait for the optional OOP module to be released.) determines what expressions containing the data / object can be formatted as. For example, you already know that a data type called <i>string</i> exists e.g. \"try.\" A data type called <i>int</i> (or integer) also exists e.g. 5. Is the expression \"try\" + 5 valid?\n",
    "\n",
    "No! That doesn't really make sense, does it? However, 5 + 5 does work (10) and in Python \"try\" + \"respect\" = \"tryrespect.\" You can try out different data type operations in the notebook cells, experimenting to see which ones error and which ones are valid).\n",
    "\n",
    "Python's standard data types can be classified into the following groups: boolean, numeric, sequences, sets, and mappings.\n",
    "\n",
    "<div style=\"border:1px solid #000; padding: 7px; margin: 10px\">\n",
    "    <b>Definition:</b>\n",
    "    <br>\n",
    "    <i>Boolean</i>: type of built-in values of <code>True</code> and <code>False</code>. Can be interchanged with 1 and 0 respectively. Usually used in <i>conditional expressions</i> e.g. <code>True and (False and True)</code>, which can also be expressed as <code>1 and (0 and 1)</code> or <code>1 and (0 and True)</code>. In Python, the values <code>False</code> and 0 and <code>\"\"</code> (the empty string) are False values and everything else is considered <code>True</code>, but it's still best for code clarity to use <code>True</code> and <code>False</code> explicitly when considering the truthiness of a particular expression / when coding using conditional expressions.\n",
    "    <br><br>\n",
    "    <i>Numeric</i>:\n",
    "        <ul>\n",
    "            <li>int: integers, unlimited length e.g. 0, 42</li>\n",
    "            <li>long: longs, unlimited length e.g. 1.79e308 where the \"e\" stands for a power of 10</li>\n",
    "            <li>float: floating point numbers e.g. 0.98</li>\n",
    "            <li>complex: numbers that have a real and imaginary part expressed as [real part] + [imaginary part]j e.g. 3 + 5j</li>\n",
    "        </ul>\n",
    "    <br>\n",
    "    <i>Sequences</i>\n",
    "        <ul>\n",
    "            <li>string: a sequence of Unicode characters (Unicode allows for representation of many characters,\n",
    "            including emoji e.g. \"hello, world\"</li>\n",
    "            <li>bytes: a sequence of ints from 0 to 255 e.g. 45 (Bytes are often used in rgb sequences to define colors. You might see this data type if your data includes images.)</li>\n",
    "            <li>byte array: mutable bytes (mutable means can be changed / edited)</li>\n",
    "            <li>list: a mutable sequence of data (elements can be of different types) e.g. [3, 4, 4, 5]</li>\n",
    "            <li>tuple: an immutable list (elements can be of different types) e.g. (3, 4, 4, 5)</li>\n",
    "        </ul>\n",
    "    <br>\n",
    "    <i>Sets</i>\n",
    "        <ul>\n",
    "            <li>set: unordered collection of unique elements</li>\n",
    "            <li>frozen set: an immutable set</li>\n",
    "        </ul>\n",
    "    <br>\n",
    "    <i>Mappings</i>\n",
    "        <ul>\n",
    "            <li>dictionary: each element of an unordered list (key, must be unique) is associated with a definition (value), like a map e.g. {\"stars\": 4, \"planets\": 4, \"radii\": [45e2, 345e4, 3544]}</li>\n",
    "        </ul>\n",
    "</div>\n",
    "\n",
    "The above table represents the data types specific to Python. You'll probably be using numeric types and sequences (particularly strings and lists) most often.\n",
    "\n",
    "Below, we classify the mentioned data types into mutable vs. immutable. Mutable objects can be altered after they have been created whereas immutable objects cannot. This means that when you assign <code>x = 5</code> and then run the statement <code>x = 6</code>, you aren't changing the 5 into a 6; you're removing / destroying the instance of integer 5 completely and replacing that with a 6 so <code>x</code> holds the new value.\n",
    "\n",
    "<table>\n",
    "    <tr>\n",
    "        <th>Immutable</th>\n",
    "        <th>Mutable</th>\n",
    "    </tr>\n",
    "    <tr>\n",
    "        <td>\n",
    "        - int <br>\n",
    "        - float <br>\n",
    "        - complex <br>\n",
    "        - str <br>\n",
    "        - bytes <br>\n",
    "        - tuple <br>\n",
    "        - frozen set <br>\n",
    "        - boolean\n",
    "        </td>\n",
    "        <td>\n",
    "        - array <br>\n",
    "        - byte array <br>\n",
    "        - list <br>\n",
    "        - set <br>\n",
    "        - dict\n",
    "        </td>\n",
    "    </tr>\n",
    "</table>\n",
    "\n",
    "This is important to know because messy data can sometimes contain lists instead of tuples, which means that you run a risk of overwriting the original data if you somehow reassign the variables that point to the sequences. If you try to reassign an element of a tuple, Python will throw an error.\n",
    "\n",
    "<code>\n",
    "&gt;&gt; tuple_ex = (4, 5, 6)\n",
    "&gt;&gt; tuple_ex[2] = 7 # we are trying to reassign the element 6 to be 7 instead\n",
    "Traceback (most recent call last):\n",
    "  File \"&lt;stdin&gt;\", line 1, in &lt;module&gt;\n",
    "TypeError: 'tuple' object does not support item assignment\n",
    "</code>"
   ]
  },
  {
   "cell_type": "markdown",
   "metadata": {},
   "source": [
    "#### Checkpoint 4"
   ]
  },
  {
   "cell_type": "markdown",
   "metadata": {},
   "source": [
    "Look at the list of data elements. What types are they? You can choose from the following: str, list, dictionary, int, float, tuple, boolean. Type your answer in order of the elements in the list in the ... separated by commas and in quotes so that the answer is printed."
   ]
  },
  {
   "cell_type": "code",
   "execution_count": null,
   "metadata": {},
   "outputs": [],
   "source": [
    "# fill in the ... with your answer\n",
    "data_types_list = [[], 45, 8932.32, \"hi, nice to meet you\", -88, 0, (55, 55), {\"0\": \"wish\", \"14\": \"circles\"}, False]\n",
    "my_types = [...]\n",
    "print(my_types)"
   ]
  },
  {
   "cell_type": "code",
   "execution_count": null,
   "metadata": {},
   "outputs": [],
   "source": [
    "# did you get it right?\n",
    "csModule1.checkpoint4(my_types)"
   ]
  },
  {
   "cell_type": "markdown",
   "metadata": {},
   "source": [
    "### Zero-Indexing"
   ]
  },
  {
   "cell_type": "markdown",
   "metadata": {},
   "source": [
    "Lists, tuples, and other sequences in Python are <i>zero-indexed</i>. What this means is that the 1st element of a sequence is actually referred to as element 0, the 2nd element as element 1, and so on. When you try to access the 8th element of a list <code>lst</code>, you must type <code>lst[7]</code>, or generally, when trying to access the $n$th element of a sequence, you must type <code>seq[</code>$n - 1$<code>]</code>.\n",
    "\n",
    "For example...\n",
    "\n",
    "<code>\n",
    "(1) &gt;&gt; country_list = [\"Canada\", \"Belgium\", \"Cambodia\", \"Lithuania\", \"India\"]\n",
    "(2) &gt;&gt; country_list[1]\n",
    "Belgium\n",
    "(3) &gt;&gt; country_list[2] = \"Brazil\"\n",
    "(4) &gt;&gt; country_list\n",
    "[\"Canada\", \"Belgium\", \"Brazil\", \"Lithuania\", \"India\"]\n",
    "</code>\n",
    "\n",
    "The process of accessing an element works very similarly for tuples except the line of code labeled (3) will error and (4) will never be reached by the property of immutability.\n",
    "\n",
    "Additionally, one list <code>list_1</code> may be added to another list <code>list_2</code> to extend it by using the code <code>list_1 + list_2</code>.\n",
    "\n",
    "For example..."
   ]
  },
  {
   "cell_type": "code",
   "execution_count": null,
   "metadata": {
    "collapsed": true
   },
   "outputs": [],
   "source": [
    "var_1 = \"cats\"\n",
    "list_1 = [\"bear\", 6, var_1]\n",
    "list_2 = [8.5, [98, \"4\"], \"bees\"]\n",
    "list_1 + list_2"
   ]
  },
  {
   "cell_type": "markdown",
   "metadata": {},
   "source": [
    "Subsequent lists are simply pasted on to the end of the first, thereby adding the lists together!"
   ]
  },
  {
   "cell_type": "markdown",
   "metadata": {},
   "source": [
    "#### Checkpoint 5"
   ]
  },
  {
   "cell_type": "markdown",
   "metadata": {},
   "source": [
    "Swap the list elements until it is fully reversed i.e. the first element is the last one, the last is the first, and so on."
   ]
  },
  {
   "cell_type": "code",
   "execution_count": null,
   "metadata": {},
   "outputs": [],
   "source": [
    "# You may modify the code structure as long as you answer the question\n",
    "orig_list = [\"alligator\", \"bathtub\", \"cat\", \"dog\", \"eggs\", \"spam\", \"basket\"] # \"dog\" should remain in the same spot\n",
    "...\n",
    "swapped_list = [...]\n",
    "...\n",
    "print(swapped_list)"
   ]
  },
  {
   "cell_type": "code",
   "execution_count": null,
   "metadata": {},
   "outputs": [],
   "source": [
    "# did you get it right?\n",
    "csModule1.checkpoint5(orig_list)"
   ]
  },
  {
   "cell_type": "markdown",
   "metadata": {},
   "source": [
    "### More on Dictionaries"
   ]
  },
  {
   "cell_type": "markdown",
   "metadata": {},
   "source": [
    "As we mentioned in the Data Types intro section, a dictionary is composed of an unordered collection of key-value pairs in the format <code>key : value</code> delineated by commas. The key and value can be of any data type as long as each key is unique. Try creating a dictionary in the code cell below."
   ]
  },
  {
   "cell_type": "code",
   "execution_count": null,
   "metadata": {
    "collapsed": true
   },
   "outputs": [],
   "source": [
    "# Please replace the dots with your key-value pairs. Use the example in the data types table to guide you.\n",
    "dictionary_ex = {...}"
   ]
  },
  {
   "cell_type": "markdown",
   "metadata": {},
   "source": [
    "You know all about assignments now! The above statement means that the name <code>dictionary_ex</code> points to the right hand side of the equality -- your collection of pairs. Let's try accessing your dictionary now, just to see how it looks like. Run the cell below and it should print out your dictionary."
   ]
  },
  {
   "cell_type": "code",
   "execution_count": null,
   "metadata": {
    "collapsed": true
   },
   "outputs": [],
   "source": [
    "for i in range(len(dictionary_ex)):\n",
    "    print(dictionary_ex)"
   ]
  },
  {
   "cell_type": "markdown",
   "metadata": {},
   "source": [
    "The <code>for</code> keyword above corresponds to what we will learn later is a <i>loop</i>, but you don't need to worry about it right now. The gist of the block above is that the dictionary will be printed a certain number of times.\n",
    "\n",
    "Look at the output! Are the elements in the same order as you inputted them? Are they in the same order every time you print? This is what is meant by unordered. Unlike a list, a dictionary's <i>indices</i> are its keys, so the order shouldn't matter, just like when you're looking up words in a dictionary. You don't really think about whether or not \"epistolary\" is the 4568th word but rather if the definition you're looking at corresponds to the word.\n",
    "\n",
    "This means that when you're trying to access a definition or value from a dictionary, you use the format <code>dictionary_name[key]</code>, substituting for the name of your dictionary and the key you're referring to. Try accessing one of the elements from <code>dictionary_ex</code> in the code cell below."
   ]
  },
  {
   "cell_type": "code",
   "execution_count": null,
   "metadata": {
    "collapsed": true
   },
   "outputs": [],
   "source": [
    "dictionary_ex[...] # insert your key in the ..."
   ]
  },
  {
   "cell_type": "markdown",
   "metadata": {},
   "source": [
    "#### Checkpoint 6"
   ]
  },
  {
   "cell_type": "markdown",
   "metadata": {},
   "source": [
    "Insert these 2 new key-value pairs into the below dictionary: <code>(\"planets\", 8), (\"dwarf_planets\", 1)</code>. Modify the key-value pair <code>(\"star\", 0)</code> so that it is <code>(\"star\", 1)</code>."
   ]
  },
  {
   "cell_type": "code",
   "execution_count": null,
   "metadata": {},
   "outputs": [],
   "source": [
    "solar_system = {\"star\": 0, \"asteroids\": \"many\", \"star_type\": \"main-sequence\", \"age\": \"4.6 billion years\"}\n",
    "...\n",
    "print(solar_system)"
   ]
  },
  {
   "cell_type": "code",
   "execution_count": null,
   "metadata": {},
   "outputs": [],
   "source": [
    "# did you get it right?\n",
    "csModule1.checkpoint6(solar_system)"
   ]
  },
  {
   "cell_type": "markdown",
   "metadata": {},
   "source": [
    "## Call Expressions and Functions"
   ]
  },
  {
   "cell_type": "markdown",
   "metadata": {},
   "source": [
    "If Python was a language, we've spent a lot of time so far going over the \"nouns\" (variables, data types), but data analysis isn't just about looking at chunks of data. The majority is active analysis, and for that, we need to get to know our \"verbs\" -- functions.\n",
    "\n",
    "You've probably already noticed that a lot of the terminology is similar to mathematical terms, and analogously, a <i>function</i> in CS performs an operation or combination of operations to a set of <i>parameters</i>, usually in the form of variables and either outputs a result (taking the form of some Python data type) or does not, in which case the function returns <code>None</code>. The latter type of function is called <i>non-pure</i> while the former is referred to as <i>pure</i>.\n",
    "\n",
    "We've actually already seen a function, one that's <i>built-in</i> to Python. This means that there is a collection of functions that are ready for you to call as soon as you start up your Jupyter notebook or any other Python interpreter. Our case study will include the functions <code>print</code> (takes a piece of data of any type and prints it) and <code>abs</code> (takes a number and returns its absolute value). They are both built-in. \n",
    "\n",
    "Any other functions that you could use in your project must either be <i>imported</i> from libraries of functions (some common ones are <code>math</code> or <code>numpy</code>) in the format <code>import [library_name]</code> or created by you! We will go over defining your own functions in the next module."
   ]
  },
  {
   "cell_type": "code",
   "execution_count": null,
   "metadata": {
    "collapsed": true
   },
   "outputs": [],
   "source": [
    "# let's take a look at what these functions do first!\n",
    "print(\"Hello, world\")"
   ]
  },
  {
   "cell_type": "code",
   "execution_count": null,
   "metadata": {
    "collapsed": true
   },
   "outputs": [],
   "source": [
    "abs(-5.4)"
   ]
  },
  {
   "cell_type": "code",
   "execution_count": null,
   "metadata": {
    "collapsed": true
   },
   "outputs": [],
   "source": [
    "# what is returned by the function print?\n",
    "returned_val_print = print(\"Hello!\")\n",
    "returned_val_abs = print(abs(-55))"
   ]
  },
  {
   "cell_type": "code",
   "execution_count": null,
   "metadata": {
    "collapsed": true
   },
   "outputs": [],
   "source": [
    "returned_val_print"
   ]
  },
  {
   "cell_type": "code",
   "execution_count": null,
   "metadata": {
    "collapsed": true
   },
   "outputs": [],
   "source": [
    "returned_val_abs"
   ]
  },
  {
   "cell_type": "markdown",
   "metadata": {},
   "source": [
    "In the above example, the parameter to <code>print</code> is the string \"Hello!\" while the parameter to <code>abs</code> is -55. However, a function may take in more than 1 parameter e.g. built-in function <code>round</code> which takes in 2 parameters (a number and the number of digits to round to). The <i>default value</i> of the parameter corresponding to the number of digits is 0 decimal digits (rounding to the nearest integer). The default value is used only if the 2nd parameter is not passed in.\n",
    "\n",
    "For example...\n",
    "\n",
    "<code>\n",
    "&gt;&gt; round(2.3453, 2) &#x23; rounds to 2 decimal digits\n",
    "2.35\n",
    "&gt;&gt; round(2.3453) &#x23; rounds to the nearest integer, which is 2\n",
    "2\n",
    "</code>\n",
    "\n",
    "Also, a <i>call expression</i> is the terminology for the expression <code>abs(-55)</code> or <code>print(\"Hello!\")</code> -- an invocation of a function in which the function name appears first, with the parameters appeared in a comma-separated sequence enclosed in parentheses."
   ]
  },
  {
   "cell_type": "markdown",
   "metadata": {},
   "source": [
    "#### Checkpoint 7"
   ]
  },
  {
   "cell_type": "markdown",
   "metadata": {},
   "source": [
    "Use the Python built-in function <code>type</code> (takes one argument) which returns the data type of the parameter to check your answers to at least 3 of the data elements in Checkpoint 4."
   ]
  },
  {
   "cell_type": "code",
   "execution_count": null,
   "metadata": {
    "collapsed": true
   },
   "outputs": [],
   "source": [
    "# fill in the ... with your answer\n",
    "data_types_list = [[], 45, 8932.32, \"hi, nice to meet you\", -88, 0, (55, 55), {\"0\": \"wish\", \"14\": \"circles\"}, False]\n",
    "\n",
    "print(...)\n",
    "print(...)\n",
    "print(...)"
   ]
  },
  {
   "cell_type": "markdown",
   "metadata": {},
   "source": [
    "## Conditionals and Conditional Expressions"
   ]
  },
  {
   "cell_type": "markdown",
   "metadata": {},
   "source": [
    "A <i>conditional expression</i> is an expression that evaluates to a boolean i.e. <code>True</code> or <code>False</code>. We touched on this briefly when discussing data types -- the only expressions that carry False values in Python are False, 0, and \"\" (the empty string). So how do we combine various pieces of data to get a conditional expression that isn't simply just <code>True</code> or <code>False</code>?\n",
    "\n",
    "You use the keywords <code>and</code> and <code>or</code>. But what would something like <code>True and False</code> or <code>0 or 5</code> mean? Let's check out a diagram called a <i>truth table</i>!\n",
    "\n",
    "<table>\n",
    "    <tr>\n",
    "        <th>Expression 1</th>\n",
    "        <th>Expression 2</th>\n",
    "        <th>Combiner</th>\n",
    "        <th>Final Value</th>\n",
    "    </tr>\n",
    "    <tr>\n",
    "        <td>True</td>\n",
    "        <td>True</td>\n",
    "        <td>and</td>\n",
    "        <td>True</td>\n",
    "    </tr>\n",
    "    <tr>\n",
    "        <td>True</td>\n",
    "        <td>False</td>\n",
    "        <td>and</td>\n",
    "        <td>False</td>\n",
    "    </tr>\n",
    "    <tr>\n",
    "        <td>False</td>\n",
    "        <td>True</td>\n",
    "        <td>and</td>\n",
    "        <td>False</td>\n",
    "    </tr>\n",
    "    <tr>\n",
    "        <td>False</td>\n",
    "        <td>False</td>\n",
    "        <td>and</td>\n",
    "        <td>False</td>\n",
    "    </tr>\n",
    "    <tr>\n",
    "        <td>True</td>\n",
    "        <td>True</td>\n",
    "        <td>or</td>\n",
    "        <td>True</td>\n",
    "    </tr>\n",
    "    <tr>\n",
    "        <td>True</td>\n",
    "        <td>False</td>\n",
    "        <td>or</td>\n",
    "        <td>True</td>\n",
    "    </tr>\n",
    "    <tr>\n",
    "        <td>False</td>\n",
    "        <td>True</td>\n",
    "        <td>or</td>\n",
    "        <td>True</td>\n",
    "    </tr>\n",
    "    <tr>\n",
    "        <td>False</td>\n",
    "        <td>False</td>\n",
    "        <td>or</td>\n",
    "        <td>False</td>\n",
    "    </tr>\n",
    "</table>\n",
    "\n",
    "The above is a relatively simple truth table for only 2 expressions, where the first 2 columns represent the overall True or False value of each expression. More complicated conditional expression can include $\\geq$ 2 sub-expressions, but you can construct a similar larger truth table using the same basic rules i.e. if you have False combined with and, the expression value is False, and if you have True combined with or, you automatically have an expression value of True.\n",
    "\n",
    "What does <code>(5 and 0) or (6.9 and False)</code> evaluate to? Note that with compound conditional expressions, it's best to include parentheses to show which pairs are evaluated at what priority because omitting these can lead to ambiguity and less readable code. In fact, conditional expressions almost always exclusively use boolean values because including integers and other data types decreases readability.\n",
    "\n",
    "Let's start with <code>5 and 0</code>. We know that 5 has a True value and 0 has a False value. From the truth table above, <code>True and False</code> is equal to False. Hence, what Python does is return the value corresponding to the evaluated False -- 0.\n",
    "\n",
    "Similarly, when considering <code>6.9 and False</code>, we know that 6.9 has a True value and False has a False value. From the truth table above, <code>True and False</code> is equal to False. Hence, Python returns False.\n",
    "\n",
    "Now, we have <code>0 or False</code>. The program takes the first False value (because we are using the <code>or</code> combiner, no matter what, if the first value is False, the entire expression will evaluate to False -- a phenomenon known as <i>short-circuiting</i>), and returns 0 as the value of the conditional expression. This holds a False value when evaluated in a conditional context.\n",
    "\n",
    "<b>Note</b>: This section includes some confusing concepts including short-circuiting, so if you find yourself confused, please Google the terms or ask our computational scientists any questions you have! The CS 61A textbook <i>Composing Programs</i> which is freely available online is a particularly good resource.\n",
    "\n",
    "Where do conditional expressions come to use though other than evaluating strings of random data combined with <code>and</code> or <code>or</code>?\n",
    "\n",
    "Say you want to run a block of code if a certain condition holds, and a different one if another one holds, and nothing if another condition is true? With what we've learned so far, this is impossible, because a program runs sequentially, and if things go right, should eventually reach all of the lines. \n",
    "\n",
    "Here's where a <i>control structure</i> (a type of program organization that allows for more complicated execution paths than simply sequential) like a <i>conditional</i> comes in handy. In Python, we can solve the above problem quite simply by using the following structure:\n",
    "\n",
    "<code>\n",
    "if [conditional expression]:\n",
    "    [block of statements]\n",
    "elif [conditional expression]:\n",
    "    [block of statements]\n",
    "... {you may have multiple if or elif statements}...\n",
    "else: &#x23; but you may only have 1 else statement in an if-elif-else or if-else block\n",
    "    [block of statements]\n",
    "</code>\n",
    "\n",
    "The block of statements under a conditional expression may only be executed if the conditional expression evaluates to True.\n",
    "\n",
    "<b>Note</b>: If you have multiple <code>if</code> conditions in a row, the program will run through all of them, testing the conditions to check if they are True. However, if you have an <code>if</code> and then <code>elif</code>, if the <code>if</code> condition is True, the <code>elif</code> blocks will be short-circuited and the <code>elif</code> conditions will not be checked at all."
   ]
  },
  {
   "cell_type": "markdown",
   "metadata": {},
   "source": [
    "#### Checkpoint 8"
   ]
  },
  {
   "cell_type": "markdown",
   "metadata": {},
   "source": [
    "You know the age of a person, saved in the <code>age</code> variable. Write a piece of code that does the following:\n",
    "<br><br>\n",
    "1) if the person is older than 65 years, <i>return</i> \"You are a senior!\" <br>\n",
    "2) if the person is younger than 18 years, <i>return</i> \"You are a child. You will be 18 in a few years!\" <br>\n",
    "3) if the person is between these ages, <i>return</i> \"You're an adult.\"\n",
    "\n",
    "You should not be printing anything if your function is run, but rather <i>returning</i> the listed strings. The difference between the <code>return</code> and <code>print</code> keywords is that if the result of the function is assigned to a variable, if the function only prints given an input, the value of the variable will be None after the function is run, as opposed to the string.\n",
    "\n",
    "For example, <code>elsa = age_printer(16)</code> and then accessing the value of <code>elsa</code> should give <code>\"You are a child. You will be 18 in a few years!\"</code>, not None."
   ]
  },
  {
   "cell_type": "code",
   "execution_count": null,
   "metadata": {
    "collapsed": true
   },
   "outputs": [],
   "source": [
    "# fill this code cell in with your answer\n",
    "def age_printer(age):\n",
    "    ..."
   ]
  },
  {
   "cell_type": "code",
   "execution_count": null,
   "metadata": {},
   "outputs": [],
   "source": [
    "# did you get it right?\n",
    "csModule1.checkpoint8(age_printer)"
   ]
  },
  {
   "cell_type": "markdown",
   "metadata": {},
   "source": [
    "## Loops"
   ]
  },
  {
   "cell_type": "markdown",
   "metadata": {},
   "source": [
    "Generally, a program is executed sequentially, line by line. Line 1 is executed first, before the computer moves on to line 2, and so on.\n",
    "\n",
    "Say you got an assignment to print all the numbers from 0 through 10 on different lines. Knowing the CS and Python that we've gone through so far, how would you complete this task?"
   ]
  },
  {
   "cell_type": "code",
   "execution_count": null,
   "metadata": {
    "collapsed": true
   },
   "outputs": [],
   "source": [
    "# Use this code cell to show how you would print all 11 integers on separate lines."
   ]
  },
  {
   "cell_type": "markdown",
   "metadata": {},
   "source": [
    "The method you probably used above is a sequence of print statements in the form <code>print(1)</code>, <code>print(2)</code>, etc. But that's 11 lines and probably a few minutes of time wasted for something that seems quite repetitive... almost like you could copy-paste the code 11 times and replace a few parts.\n",
    "\n",
    "A <i>loop</i> control structure may be useful here. As suggested by the name, a loop allows you to execute a statement or group of statements many times. There are two basic types of loops: <code>while</code> and <code>for</code>. You can use these building blocks to create multilevel nested loops i.e. a for loop inside a for loop or a while loop inside a for loop, etc.\n",
    "\n",
    "<div style=\"border:1px solid #000; padding: 7px; margin: 10px\">\n",
    "<b>Definition</b>: A <code>while</code> loop repeats a block of code while a given condition is true. Every time we make a pass through the loop, the program checks the condition. If the condition becomes false, the program immediately exits the loop without executing any nested lines.\n",
    "<br>\n",
    "<b>Structure</b>:\n",
    "<code>\n",
    "while [conditional expression]:\n",
    "    [block of statements]\n",
    "</code>\n",
    "<br>\n",
    "The below are a few examples of <code>while</code> loops in action.\n",
    "<code>\n",
    "i = True\n",
    "while i == true: &#x23; this is a conditional expression that evaluates to true during the first pass\n",
    "    i = False\n",
    "    print(\"Hello\")\n",
    "</code>\n",
    "<br>\n",
    "<i>Note</i>: Observe that \"Hello\" will be printed 1 time because <code>i</code> is set to False afterward, which means that the loop will not run through a second pass.\n",
    "<br><br>\n",
    "The above loop can also be simplified to the following:\n",
    "<code>\n",
    "i = True\n",
    "while i: &#x23; the conditional expression i is equivalent to i == true\n",
    "    i = False\n",
    "    print(\"Hello\")\n",
    "</code>\n",
    "<br><br>\n",
    "<b>Definition</b>: A <code>for</code> loop repeats a block of code a known number of times and uses a loop variable that increments on each pass to keep track of the number of times the code has run so far.\n",
    "<br>\n",
    "<b>Structure</b>:\n",
    "<code>\n",
    "for [loop variable] in [sequence]:\n",
    "    [block of statements]\n",
    "</code>\n",
    "<br>\n",
    "The below are a few examples of <code>for</code> loops in action.\n",
    "<code>\n",
    "&#x23; the loop variable is i, and range is a function that returns a sequence of integers [0, 1, 2] (3 noninclusive)\n",
    "&#x23; so the for loop should run 3 times total (once for each element)\n",
    "for i in range(3):\n",
    "    print(str(i) + \" cats are cute!\") &#x23; you'll learn about string concatenation in the next module!\n",
    "</code>\n",
    "<br>\n",
    "The above code will print the following:\n",
    "<code>\n",
    "0 cats are cute!\n",
    "1 cats are cute!\n",
    "2 cats are cute!\n",
    "</code>\n",
    "<br>\n",
    "Now, let's change up the sequence we're using that the loop variable iterates through. Why don't we use a list?\n",
    "<code>\n",
    "for elem in [3, 4, 87, -3]:\n",
    "    print(elem)\n",
    "</code>\n",
    "<br>\n",
    "The above code will print the following:\n",
    "<code>\n",
    "3\n",
    "4\n",
    "87\n",
    "-3\n",
    "</code>\n",
    "</div>\n",
    "\n",
    "Now, let's go back to the problem we posed in the beginning of this section. With your newfound knowledge of loops, can you print all the numbers from 0 through 10 on different lines more efficiently?"
   ]
  },
  {
   "cell_type": "code",
   "execution_count": null,
   "metadata": {
    "collapsed": true
   },
   "outputs": [],
   "source": [
    "# Use this code cell to show how you would print all 11 integers on separate lines using loops."
   ]
  },
  {
   "cell_type": "markdown",
   "metadata": {},
   "source": [
    "#### Checkpoint 9"
   ]
  },
  {
   "cell_type": "markdown",
   "metadata": {},
   "source": [
    "Find out if the number $x$ is prime. Assume that $x$ will never be 1 or 0. Note that a prime number is a number $p$ that is not divisible by any number from 1 to $p$ except 1 and $p$ itself (e.g. 3 is prime because from 1-3 it's only divisible by 1 and 3).\n",
    "\n",
    "<i>Hint</i>: You can check if a number $n$ is divisible by a number $i$ by running <code>n % i</code>. If <code>n % i</code> is 0, $n$ is divisible by $i$. If the expression yields any other result, $n$ is not divisible by $i$."
   ]
  },
  {
   "cell_type": "code",
   "execution_count": null,
   "metadata": {
    "collapsed": true
   },
   "outputs": [],
   "source": [
    "def is_prime(x):\n",
    "    ...\n",
    "    prime_truth = ...\n",
    "    return prime_truth"
   ]
  },
  {
   "cell_type": "code",
   "execution_count": null,
   "metadata": {},
   "outputs": [],
   "source": [
    "# did you get it right?\n",
    "csModule1.checkpoint9(is_prime)"
   ]
  },
  {
   "cell_type": "markdown",
   "metadata": {},
   "source": [
    "## Errors"
   ]
  },
  {
   "cell_type": "markdown",
   "metadata": {},
   "source": [
    "<b>Note</b>: This section draws inspiration heavily from the following link: <a href = \"https://www2.cs.arizona.edu/people/mccann/errors-python\">University of Arizona: Errors in Python</a>.\n",
    "\n",
    "By now, you've probably run into at least one Python error. It's like learning to ride a bike... you can't say you've properly done it until you've fallen off and skinned your knee!\n",
    "\n",
    "Luckily, Python is great with being specific with what caused your program to error, often narrowing the issue down to a specific line when things went wrong (called a <i>traceback</i>), but a major step to becoming a successful coder is learning to read error messages and understand what they mean.\n",
    "\n",
    "Here are 5 common error messages, what they mean, and how to diagnose the root problem:\n",
    "\n",
    "1) <b>SyntaxError</b>: invalid syntax. You've messed up the \"grammar\" of a Python program! Common causes include...\n",
    "- forgetting the parentheses in a call expression\n",
    "- forgetting the colon at the end of a conditional <code>if</code>, <code>elif</code>, etc.\n",
    "\n",
    "\n",
    "2) <b>IndentationError</b>: expected an indented block. In Python, indentation is particularly important because it can change the meaning of a program. Whenever you have a block of code that falls under a statement, it must be consistently indented (usually 2 / 4 spaces, or a tab), and deviations will result in this error. Common causes include...\n",
    "- forgetting to indent a block of statements inside <code>if</code>, <code>for</code>, etc. properly\n",
    "- forgetting to indent the code block inside a user-defined function\n",
    "\n",
    "\n",
    "3) <b>IndentationError</b>: unexpected indent. As mentioned above, consistent indentation is imperative! If you indent a line inside a block by 3 spaces and the following line by 5, you'll get this error. Common causes include...\n",
    "- forgetting to indent a block of statements inside <code>if</code>, <code>for</code>, etc. properly\n",
    "- forgetting to indent the code block inside a user-defined function\n",
    "\n",
    "\n",
    "4) <b>NameError</b>: global name '[some_variable_name]' is not defined. Python has built-in functions, which means that it automatically knows what <code>print</code> means. It doesn't know what \"hello\" means though, and will be confused by a statement that includes a previously unknown name. Common causes include...\n",
    "- not assigning a value to a variable before using it in a statement\n",
    "- misspelling a built-in function name e.g. <code>pront</code> instead of <code>print</code>\n",
    "\n",
    "\n",
    "5) <b>TypeError</b>: Can't convert [some_data_type] object to [some_other_data_type] implicitly. When you're trying to perform an unsupported operation, usually on items of different data types, Python reacts with this error e.g. \"5\" + 5 which makes no sense unless both objects are of the same type. Common causes include...\n",
    "- combining a number and a string\n",
    "- trying to add an element to list using a + sign e.g. [4, 5, 6] + 4 (concatenation requires both elements involved in the operation to be the same type)"
   ]
  },
  {
   "cell_type": "markdown",
   "metadata": {},
   "source": [
    "#### Checkpoint 10"
   ]
  },
  {
   "cell_type": "markdown",
   "metadata": {},
   "source": [
    "Write a block of code that causes a NameError. Can you write a block of code that results in more than 1 error? Why or why not?"
   ]
  },
  {
   "cell_type": "code",
   "execution_count": null,
   "metadata": {
    "collapsed": true
   },
   "outputs": [],
   "source": [
    "# use this code cell for your answer\n",
    "..."
   ]
  },
  {
   "cell_type": "markdown",
   "metadata": {},
   "source": [
    "[Answer the 2nd and 3rd questions here]"
   ]
  },
  {
   "cell_type": "markdown",
   "metadata": {},
   "source": [
    "## Documenting Your Code (and Documentation!)"
   ]
  },
  {
   "cell_type": "markdown",
   "metadata": {},
   "source": [
    "As you're working through your research project, it's important to add <i>documentation</i> to your code, especially if you're relying on long blocks of data analysis. There's a high chance that when you come back to enumerate your analysis steps for your final paper / presentation / poster, you won't remember the exact purpose of line 42.\n",
    "\n",
    "What most programmers do in case of this is add <i>comments</i>. Comments are lines in the code that the computer doesn't read / execute (so Python syntax rules don't apply), but that humans do read! Comments usually include information about what a certain function does or why a particular block of statements was executed. There's no overarching rule for what a comment should look like, but in general they should be informative (to someone who hasn't seen your code before) and concise.\n",
    "\n",
    "Here are some stylistic choices generally attributed to good comments according to O'Reilly, a company that commonly publishes CS books (taken from the following <a href = \"https://www.oreilly.com/ideas/the-eight-rules-of-good-documentation\">link</a>).\n",
    "\n",
    "- inviting and clear\n",
    "- comprehensive, detailing all aspects of the project\n",
    "- skimmable\n",
    "- offers examples of how to use the software\n",
    "- has repetition, where useful\n",
    "- up-to-date\n",
    "- easy to contribute to\n",
    "- easy to find\n",
    "\n",
    "There are 2 types of comments in Python -- single line and multiline (generally for longer comments, shouldn't be that frequent in the middle of a file).\n",
    "\n",
    "The syntax for a single line comment is <code>&#x23; [insert comment here]</code>. For a multiline comment it is <code>\"\"\" [insert multiline comment here] \"\"\"</code>. Here are some examples of comments:\n",
    "\n",
    "<code>\n",
    "&#x23; adds up the distances and outputs average distance\n",
    "\n",
    "\"\"\"\n",
    "this file includes functions that manipulate quaternions so that they can be output in ECEF format and written\n",
    "to the planetary orientation file\n",
    "\"\"\"\n",
    "</code>\n",
    "\n",
    "Still have more questions about the Python language or CS fundamentals that this crash-course module hasn't answered? Here are 2 resources that for the most part compose the Bible of Python programmers and should start you out on your journey to becoming a Python programmer:\n",
    "\n",
    "1) <a href = \"https://docs.python.org/3/\">The official Python language documentation</a>! This is not very accessible for a beginning programmer, so you can also try the <a href = \"https://docs.python.org/3/tutorial/\">Python tutorial</a>.\n",
    "2) <a href = \"https://stackoverflow.com\">StackOverflow</a>. Your question is almost certainly not unique, and if you search it on the StackOverflow database, you'll probably get a good explanation from those active on the forum. (Eventually, you should give back to the community by answering questions yourself!) Note: Be sure to search by language."
   ]
  },
  {
   "cell_type": "markdown",
   "metadata": {},
   "source": [
    "#### Checkpoint 11"
   ]
  },
  {
   "cell_type": "markdown",
   "metadata": {},
   "source": [
    "Try to optimally comment the code block below without running it! There is no right or wrong answer."
   ]
  },
  {
   "cell_type": "code",
   "execution_count": null,
   "metadata": {
    "collapsed": true
   },
   "outputs": [],
   "source": [
    "import math\n",
    "G = 6.67 * 10e11\n",
    "earth_mass = 5.972 * 10e24 # kg\n",
    "earth_rad = 6.371 * 10e6 # meters\n",
    "def esc_vel(mass, rad):\n",
    "    return math.pow((2 * G * mass / rad), 0.5)\n",
    "esc_vel(earth_mass, earth_rad)"
   ]
  },
  {
   "cell_type": "markdown",
   "metadata": {},
   "source": [
    "##  Python in the Terminal"
   ]
  },
  {
   "cell_type": "markdown",
   "metadata": {},
   "source": [
    "### Mac"
   ]
  },
  {
   "cell_type": "markdown",
   "metadata": {},
   "source": [
    "If you have a Mac, you have it easier when it comes to running Python on the terminal. What is the terminal? So far, what we've been doing is using an interpreter that runs off your computer's server with an admittedly better user interface i.e. Jupyter notebook, but if you want to run Python from your desktop, you can use the terminal (an interface to the files on your computer into which you can enter / output data) or another Python interpreter (e.g. IDLE).\n",
    "\n",
    "Generally, Macs have the latest version of Python downloaded.\n",
    "\n",
    "First, search for the application \"Terminal.\" Pressing enter should pull up an image that resembles the below.\n",
    "\n",
    "<img src = \"terminal-1.png\" style = \"width: 600px;\">\n",
    "\n",
    "You can check the version of Python that your computer is running by typing <code>python -v</code> into the terminal. This will print out a lot of irrelevant information, but what you're looking for is whether you have Python 2 or Python 3. Python 3 will be the official version of these modules and Python 2 is very similar (for the purposes we're using the language) besides some minor syntactical differences.\n",
    "\n",
    "<img src = \"terminal-2.png\" style = \"width: 600px;\">\n",
    "\n",
    "You can get to the Python 2 / 3 prompt by simply typing in <code>python</code> and pressing enter (unless your computer has 2 different versions of Python, in which case you might need to specify the version in your command i.e. <code>python 3</code>).\n",
    "\n",
    "<img src = \"terminal-3.png\" style = \"width: 600px;\">\n",
    "\n",
    "Now, you can perform any Python commands you want in the interpreter environment. Note that any variables / functions you create will be lost as soon as you close the terminal window.\n",
    "\n",
    "<img src = \"terminal-4.png\" style = \"width: 600px;\">\n",
    "\n",
    "If you have created a Python code file on your computer and want to run that from the terminal, simply execute the line <code>python [file_name].py</code> from the terminal and the output should be printed to the terminal!\n",
    "\n",
    "<img src = \"terminal-5.png\" style = \"width: 600px;\">\n",
    "\n",
    "The code inside my file \"hello_world.py\" is simply <code>print(\"Hello, world!\")</code>."
   ]
  },
  {
   "cell_type": "markdown",
   "metadata": {},
   "source": [
    "### Windows"
   ]
  },
  {
   "cell_type": "markdown",
   "metadata": {},
   "source": [
    "Windows users have slightly different directions in terms of downloading Python and Anaconda (if you have a computer that runs windows and were able to open this Jupyter notebook, you should already know this). Because of the way the Windows OS is set up, there is a slightly different method of running .py files from the command line as well.\n",
    "\n",
    "To run a Python script from a .py file from the command prompt, the path of the program must be passed in as an argument: \n",
    "\n",
    "<code>\n",
    "C:\\Python27\\python.exe C:\\Users\\Username\\Desktop\\my_python_script.py\n",
    "</code>\n",
    "\n",
    "The first path references the executable file for the Python interpreter while the second points to your .py file. The full path of the former must be used. If you want to take a shortcut so that you don't have to type this in every time, please refer to this <a href = \"https://www.pythoncentral.io/add-python-to-path-python-is-not-recognized-as-an-internal-or-external-command/\">link</a> regarding adding a directory to the PATH variable.\n",
    "\n",
    "If these directions and searching for the relevant error on the Internet have yielded no positive results, please contact your mentor or a ULAB computational scientist to further diagnose the issue. Common problems tend to be 1) an unset PATH environment variable, 2) incorrect / conflicting downloaded versions of Python, and 3) wrong directory for the target .py file to run. To double-check that the latest version of Python has been downloaded to your computer, please type \"python\" into the command prompt and press enter. If the Python interpreter does not start up and the prompt throws and error along the lines of \"does not recognize keyword python,\" your computer cannot detect the executable files that stores Python functionalities and you may have to go in and manually set your path."
   ]
  },
  {
   "cell_type": "markdown",
   "metadata": {},
   "source": [
    "#### Checkpoint 12"
   ]
  },
  {
   "cell_type": "markdown",
   "metadata": {},
   "source": [
    "There's no check in this Jupyter notebook for this section but you are encouraged to run Python on your computer without Jupyter notebook (using terminal or command line)! If you need help with the Python download, please contact your mentors / go to computational scientist office hours."
   ]
  },
  {
   "cell_type": "markdown",
   "metadata": {},
   "source": [
    "## Summary"
   ]
  },
  {
   "cell_type": "markdown",
   "metadata": {},
   "source": [
    "In this lesson we learned...\n",
    "- the basics of Python: the syntax and structure of a program in the language\n",
    "- what variables, call expressions, conditionals, and loops are, and how to create them\n",
    "- the meanings of common error messages, and how to avoid them\n",
    "- how to navigate the terminal and run Python programs from your desktop"
   ]
  }
 ],
 "metadata": {
  "kernelspec": {
   "display_name": "Python 3",
   "language": "python",
   "name": "python3"
  },
  "language_info": {
   "codemirror_mode": {
    "name": "ipython",
    "version": 3
   },
   "file_extension": ".py",
   "mimetype": "text/x-python",
   "name": "python",
   "nbconvert_exporter": "python",
   "pygments_lexer": "ipython3",
   "version": "3.6.3"
  }
 },
 "nbformat": 4,
 "nbformat_minor": 2
}
